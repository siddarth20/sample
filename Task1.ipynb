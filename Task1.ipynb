{
  "nbformat": 4,
  "nbformat_minor": 0,
  "metadata": {
    "colab": {
      "name": "Task1.ipynb",
      "provenance": [],
      "collapsed_sections": [],
      "authorship_tag": "ABX9TyNHbCXoNNnlFAEf7gxP1/iO",
      "include_colab_link": true
    },
    "kernelspec": {
      "name": "python3",
      "display_name": "Python 3"
    }
  },
  "cells": [
    {
      "cell_type": "markdown",
      "metadata": {
        "id": "view-in-github",
        "colab_type": "text"
      },
      "source": [
        "<a href=\"https://colab.research.google.com/github/siddarth20/sample/blob/master/Task1.ipynb\" target=\"_parent\"><img src=\"https://colab.research.google.com/assets/colab-badge.svg\" alt=\"Open In Colab\"/></a>"
      ]
    },
    {
      "cell_type": "markdown",
      "metadata": {
        "id": "XJ4BrIvsJOME"
      },
      "source": [
        "**Siddarth Bugtani**"
      ]
    },
    {
      "cell_type": "markdown",
      "metadata": {
        "id": "NckdgEh0DOFI"
      },
      "source": [
        "**Importing the necessary packages**"
      ]
    },
    {
      "cell_type": "code",
      "metadata": {
        "id": "sTBa4zg-obGU"
      },
      "source": [
        "import pandas as pd\n",
        "import numpy as np  \n",
        "import matplotlib.pyplot as plt  \n",
        "from sklearn.metrics import mean_squared_error, r2_score\n",
        "from sklearn.linear_model import LinearRegression \n",
        "%matplotlib inline"
      ],
      "execution_count": null,
      "outputs": []
    },
    {
      "cell_type": "markdown",
      "metadata": {
        "id": "PXsot6YMDjHf"
      },
      "source": [
        "\n",
        "\n",
        "\n",
        "\n",
        "*   **Converting the dataset1.txt file into pandas dataframe**\n",
        "*   **Printing the Hours and Scores columns seperately**\n",
        "\n",
        "\n"
      ]
    },
    {
      "cell_type": "code",
      "metadata": {
        "id": "bSj7FiruovWE",
        "outputId": "6cfdf8a3-13cc-4e3d-82fb-ec9b25ef929b",
        "colab": {
          "base_uri": "https://localhost:8080/",
          "height": 98
        }
      },
      "source": [
        "s_data = pd.read_csv(\"dataset1.txt\")\n",
        "print(\"Data imported successfully\")\n",
        "x=s_data['Hours']\n",
        "y=s_data['Scores']\n",
        "x1=np.array(x)\n",
        "x2=np.array(y)\n",
        "print(x1)\n",
        "print(x2)"
      ],
      "execution_count": null,
      "outputs": [
        {
          "output_type": "stream",
          "text": [
            "Data imported successfully\n",
            "[2.5 5.1 3.2 8.5 3.5 1.5 9.2 5.5 8.3 2.7 7.7 5.9 4.5 3.3 1.1 8.9 2.5 1.9\n",
            " 6.1 7.4 2.7 4.8 3.8 6.9 7.8]\n",
            "[21 47 27 75 30 20 88 60 81 25 85 62 41 42 17 95 30 24 67 69 30 54 35 76\n",
            " 86]\n"
          ],
          "name": "stdout"
        }
      ]
    },
    {
      "cell_type": "markdown",
      "metadata": {
        "id": "JQ5md-t3EnAc"
      },
      "source": [
        "**Plotting the graph of hours studied and the percentage score**"
      ]
    },
    {
      "cell_type": "code",
      "metadata": {
        "id": "zkHs_xRuqipp",
        "outputId": "4f41ded2-219e-4416-ff57-d112b5381646",
        "colab": {
          "base_uri": "https://localhost:8080/",
          "height": 295
        }
      },
      "source": [
        "fig,ax=plt.subplots()\n",
        "ax.scatter(x1,x2)  \n",
        "plt.title('Hours vs Percentage')  \n",
        "plt.xlabel('Hours Studied')  \n",
        "plt.ylabel('Percentage Score')  \n",
        "plt.show()                                                                                                                                                                                                                     "
      ],
      "execution_count": null,
      "outputs": [
        {
          "output_type": "display_data",
          "data": {
            "image/png": "[encoded data removed]",
            "text/plain": [
              "<Figure size 432x288 with 1 Axes>"
            ]
          },
          "metadata": {
            "tags": [],
            "needs_background": "light"
          }
        }
      ]
    },
    {
      "cell_type": "markdown",
      "metadata": {
        "id": "5n-A5u9cE80G"
      },
      "source": [
        "\n",
        "\n",
        "1.   **Splitting the dataset into train and test values using train_test_split() fuction**\n",
        "2.   **Creating an object(regr) of the LinearRegression class**\n",
        "\n",
        "\n",
        "*   **Calling the fit() function via the regr object**\n",
        "*   **Predicting the values using predict() function by passing the X_test values**\n",
        "\n",
        "\n",
        "*   **Finding the mean squared error i.e the perpendicular distance of the points from the regressor line**\n",
        "*   **Finding out the R2 score which ranges between 0-1 so that comes out to be 0.97 which is pretty good**\n",
        "\n",
        "\n",
        "\n",
        "1.   **Plotting the regressor line graph only having the test values which are predicted by the model(i.e blue line using plot() function).The black dots are X_test values**\n",
        "\n",
        "\n",
        "\n",
        "\n",
        "\n",
        "\n",
        "\n",
        "\n",
        "\n",
        "\n",
        "\n"
      ]
    },
    {
      "cell_type": "code",
      "metadata": {
        "id": "21qmqosgzFPs",
        "outputId": "711b5232-78ac-400a-d2ab-600d2fe7bc11",
        "colab": {
          "base_uri": "https://localhost:8080/",
          "height": 360
        }
      },
      "source": [
        "from sklearn.model_selection import train_test_split  \n",
        "X_train, X_test, y_train, y_test = train_test_split(x1,x2, \n",
        "                            test_size=0.2, random_state=42)\n",
        "\n",
        "X_train=X_train.reshape(-1,1)\n",
        "X_test=X_test.reshape(-1,1)\n",
        "regr = LinearRegression()\n",
        "\n",
        "\n",
        "regr.fit(X_train,y_train)\n",
        "\n",
        "\n",
        "y_pred = regr.predict(X_test)\n",
        "\n",
        "\n",
        "print('Coefficients: \\n', regr.coef_)\n",
        "print('Mean squared error: %.2f'\n",
        "      % mean_squared_error(y_test,y_pred))\n",
        "print('Coefficient of determination: %.2f'\n",
        "      % r2_score(y_test,y_pred))\n",
        "\n",
        "plt.scatter(X_test,y_test,color='black')\n",
        "plt.plot(X_test,y_pred, color='blue', linewidth=3)\n",
        "\n",
        "plt.title('Hours vs Percentage')  \n",
        "plt.xlabel('Hours Studied')  \n",
        "plt.ylabel('Percentage Score')  \n",
        "plt.show()"
      ],
      "execution_count": null,
      "outputs": [
        {
          "output_type": "stream",
          "text": [
            "Coefficients: \n",
            " [9.68207815]\n",
            "Mean squared error: 18.94\n",
            "Coefficient of determination: 0.97\n"
          ],
          "name": "stdout"
        },
        {
          "output_type": "display_data",
          "data": {
            "image/png": "[encoded data removed]",
            "text/plain": [
              "<Figure size 432x288 with 1 Axes>"
            ]
          },
          "metadata": {
            "tags": [],
            "needs_background": "light"
          }
        }
      ]
    }
  ]
}